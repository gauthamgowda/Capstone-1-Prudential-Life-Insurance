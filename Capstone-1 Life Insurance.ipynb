{
 "cells": [
  {
   "cell_type": "markdown",
   "metadata": {},
   "source": [
    "# Capstone project predicting insurance risk analysis"
   ]
  },
  {
   "cell_type": "code",
   "execution_count": 3,
   "metadata": {},
   "outputs": [],
   "source": [
    "# import packages\n",
    "import numpy as np\n",
    "import pandas as pd\n",
    "import matplotlib.pyplot as plt\n"
   ]
  },
  {
   "cell_type": "code",
   "execution_count": 4,
   "metadata": {},
   "outputs": [],
   "source": [
    "#import data files: files in CSV format\n",
    "df =pd.read_csv('train.csv', index_col='Id')\n",
    "\n"
   ]
  },
  {
   "cell_type": "code",
   "execution_count": 5,
   "metadata": {
    "collapsed": true
   },
   "outputs": [
    {
     "data": {
      "text/plain": [
       "Product_Info_1         59381\n",
       "Product_Info_2         59381\n",
       "Product_Info_3         59381\n",
       "Product_Info_4         59381\n",
       "Product_Info_5         59381\n",
       "Product_Info_6         59381\n",
       "Product_Info_7         59381\n",
       "Ins_Age                59381\n",
       "Ht                     59381\n",
       "Wt                     59381\n",
       "BMI                    59381\n",
       "Employment_Info_1      59362\n",
       "Employment_Info_2      59381\n",
       "Employment_Info_3      59381\n",
       "Employment_Info_4      52602\n",
       "Employment_Info_5      59381\n",
       "Employment_Info_6      48527\n",
       "InsuredInfo_1          59381\n",
       "InsuredInfo_2          59381\n",
       "InsuredInfo_3          59381\n",
       "InsuredInfo_4          59381\n",
       "InsuredInfo_5          59381\n",
       "InsuredInfo_6          59381\n",
       "InsuredInfo_7          59381\n",
       "Insurance_History_1    59381\n",
       "Insurance_History_2    59381\n",
       "Insurance_History_3    59381\n",
       "Insurance_History_4    59381\n",
       "Insurance_History_5    33985\n",
       "Insurance_History_7    59381\n",
       "                       ...  \n",
       "Medical_Keyword_20     59381\n",
       "Medical_Keyword_21     59381\n",
       "Medical_Keyword_22     59381\n",
       "Medical_Keyword_23     59381\n",
       "Medical_Keyword_24     59381\n",
       "Medical_Keyword_25     59381\n",
       "Medical_Keyword_26     59381\n",
       "Medical_Keyword_27     59381\n",
       "Medical_Keyword_28     59381\n",
       "Medical_Keyword_29     59381\n",
       "Medical_Keyword_30     59381\n",
       "Medical_Keyword_31     59381\n",
       "Medical_Keyword_32     59381\n",
       "Medical_Keyword_33     59381\n",
       "Medical_Keyword_34     59381\n",
       "Medical_Keyword_35     59381\n",
       "Medical_Keyword_36     59381\n",
       "Medical_Keyword_37     59381\n",
       "Medical_Keyword_38     59381\n",
       "Medical_Keyword_39     59381\n",
       "Medical_Keyword_40     59381\n",
       "Medical_Keyword_41     59381\n",
       "Medical_Keyword_42     59381\n",
       "Medical_Keyword_43     59381\n",
       "Medical_Keyword_44     59381\n",
       "Medical_Keyword_45     59381\n",
       "Medical_Keyword_46     59381\n",
       "Medical_Keyword_47     59381\n",
       "Medical_Keyword_48     59381\n",
       "Response               59381\n",
       "Length: 127, dtype: int64"
      ]
     },
     "execution_count": 5,
     "metadata": {},
     "output_type": "execute_result"
    }
   ],
   "source": [
    "#Check if there are any missing data with count() method and fill it with df.fillna()\n",
    "df.shape\n",
    "df.count()\n",
    "#df = df.fillna(0)"
   ]
  },
  {
   "cell_type": "code",
   "execution_count": 6,
   "metadata": {
    "collapsed": true
   },
   "outputs": [
    {
     "name": "stdout",
     "output_type": "stream",
     "text": [
      "<class 'pandas.core.frame.DataFrame'>\n",
      "Int64Index: 59381 entries, 2 to 79146\n",
      "Columns: 127 entries, Product_Info_1 to Response\n",
      "dtypes: float64(18), int64(108), object(1)\n",
      "memory usage: 58.0+ MB\n"
     ]
    }
   ],
   "source": [
    "# Datatypes of the dataframe\n",
    "df.info()"
   ]
  },
  {
   "cell_type": "markdown",
   "metadata": {},
   "source": [
    "Summary Statistcis for all the variables to check for Mean, SD, 25th quantile, 75th quantile, Min, Max "
   ]
  },
  {
   "cell_type": "code",
   "execution_count": null,
   "metadata": {},
   "outputs": [],
   "source": [
    "#Summary Statistics of the Data Frame\n",
    "df.describe()"
   ]
  },
  {
   "cell_type": "markdown",
   "metadata": {},
   "source": [
    "Univariate Analysis to check for dependent variable. The dependent varaible has eight discrete values. Use bar plot to compare the eight distinct responses."
   ]
  },
  {
   "cell_type": "code",
   "execution_count": null,
   "metadata": {},
   "outputs": [],
   "source": [
    "# Univariate analysis of the Response data - bar plot\n",
    "df.groupby([ 'Response'])[['Response']].count().plot(kind='bar').set_ylabel('Count')\n",
    "df.groupby(['Response' ])[['Response']].count()"
   ]
  },
  {
   "cell_type": "markdown",
   "metadata": {},
   "source": [
    "Univariate Analysis using Histogram to visualize the continous variables in the dataset. Below is an example of variable \"BMI\""
   ]
  },
  {
   "cell_type": "code",
   "execution_count": null,
   "metadata": {},
   "outputs": [],
   "source": [
    "# Univariate analysis- Histogram. Continous Variables: Product_Info_4, Ins_Age, Ht, Wt, BMI, Employment_Info_1, Employment_Info_4, \n",
    "# Employment_Info_6, Insurance_History_5, Family_Hist_2, Family_Hist_3, Family_Hist_4, Family_Hist_5\n",
    "ax = df['BMI'].hist()\n",
    "ax.set_ylabel('Counts')\n",
    "ax.set_xlabel('BMI')\n",
    "ax.set_title('BMI')\n",
    "pd.DataFrame(df['BMI'].describe())"
   ]
  },
  {
   "cell_type": "markdown",
   "metadata": {},
   "source": [
    "Bivariate Analysis: Effect of Age on Response (dependent variable). This analysis is used to check how age affects each of the responses."
   ]
  },
  {
   "cell_type": "code",
   "execution_count": null,
   "metadata": {},
   "outputs": [],
   "source": [
    "#Bivariate Analysis: Response v. Ins_Age\n",
    "df.boxplot(column=['Ins_Age'],by = ['Response'])#.set_yscale('log')\n",
    "pd.DataFrame(df.groupby( ['Response'])['Ins_Age'].describe().loc[:,['mean','std']])"
   ]
  },
  {
   "cell_type": "markdown",
   "metadata": {},
   "source": [
    "Bivariate Analysis: Effect of BMI on Response. Here we see BMI clearly show a trend amongst the Responses. Notice Response-8 has a lower BMI "
   ]
  },
  {
   "cell_type": "code",
   "execution_count": null,
   "metadata": {},
   "outputs": [],
   "source": [
    "#Bivariate Analysis: Response v. BMI\n",
    "df.boxplot(column=['BMI'], by = ['Response'])#.set_yscale('log')\n",
    "pd.DataFrame(df.groupby( ['Response'])['BMI'].describe().loc[:,['mean','std']])"
   ]
  },
  {
   "cell_type": "markdown",
   "metadata": {},
   "source": [
    "This is an example to check the effect of outliers on the Response. If we use 5th- 95th percentile, the outliers can be significantly reduced. However, the effect on Response is not that different. Hence, we keep all the data for analysis."
   ]
  },
  {
   "cell_type": "code",
   "execution_count": null,
   "metadata": {},
   "outputs": [],
   "source": [
    "# Choose percentile to miinimize the outliers\n",
    "P = np.percentile(df['BMI'], [5, 95])\n",
    "df_BMI = df[(df['BMI'] > P[0]) & (df['BMI'] < P[1])]\n",
    "df_BMI.boxplot(column=['BMI'], by = ['Response'])#.set_yscale('log')\n",
    "pd.DataFrame(df_BMI.groupby( ['Response'])['BMI'].describe().loc[:,['mean','std']])"
   ]
  },
  {
   "cell_type": "markdown",
   "metadata": {},
   "source": [
    "Example of catogorical variable effect on Response. Each response is grouped by the Response percentage on the catogorical values"
   ]
  },
  {
   "cell_type": "code",
   "execution_count": null,
   "metadata": {},
   "outputs": [],
   "source": [
    "#Response percentages for the catogorical variables - InsuredInfo_1\n",
    "\n",
    "res =df.groupby(['InsuredInfo_1','Response'])[['Response']].sum()\n",
    "Res_percent = res.groupby(level=0).apply(lambda x: 100 * x / float(x.sum()))\n",
    "print(Res_percent)\n",
    "Res_percent.unstack().plot(kind='bar')\n",
    "plt.legend(loc='center left', bbox_to_anchor=(1.0, 0.5))"
   ]
  },
  {
   "cell_type": "markdown",
   "metadata": {},
   "source": [
    "Another example of the effect of catogorical variable on the the Response grouped by percentage response"
   ]
  },
  {
   "cell_type": "code",
   "execution_count": null,
   "metadata": {},
   "outputs": [],
   "source": [
    "# Response percentages for the catogorical variables -\n",
    "res =df.groupby(['Medical_Keyword_20','Response'])[['Response']].sum()\n",
    "Res_percent = res.groupby(level=0).apply(lambda x: 100 * x / float(x.sum()))\n",
    "print(Res_percent)\n",
    "Res_percent.unstack().plot(kind='bar')\n",
    "plt.legend(loc='center left', bbox_to_anchor=(1.0, 0.5))"
   ]
  },
  {
   "cell_type": "markdown",
   "metadata": {},
   "source": [
    "Correlation coefficants between independent variables to check for dependencies. Use \"Pearson\" method on continous variables and \"Spearman\" method on catogorical variables."
   ]
  },
  {
   "cell_type": "code",
   "execution_count": null,
   "metadata": {},
   "outputs": [],
   "source": [
    "#Correlation Coefficiants between independent variables\n",
    "df[['Ins_Age','BMI','Ht', 'Wt']].corr(method='pearson')"
   ]
  },
  {
   "cell_type": "code",
   "execution_count": null,
   "metadata": {},
   "outputs": [],
   "source": [
    "#Correlation Coefficiants between independent variables\n",
    "df.loc[:,'Employment_Info_1':'Employment_Info_6'].corr(method='spearman')"
   ]
  },
  {
   "cell_type": "code",
   "execution_count": null,
   "metadata": {},
   "outputs": [],
   "source": [
    "#Correlation Coefficiants between independent variables\n",
    "df.loc[:,'Medical_History_1':'Medical_History_41'].corr(method='spearman')"
   ]
  },
  {
   "cell_type": "markdown",
   "metadata": {},
   "source": [
    "Import modules for one way ANOVA table"
   ]
  },
  {
   "cell_type": "code",
   "execution_count": 39,
   "metadata": {},
   "outputs": [],
   "source": [
    "# import modules for building ANOVA \n",
    "import pandas as pd\n",
    "import statsmodels.api as sm\n",
    "from statsmodels.formula.api import ols"
   ]
  },
  {
   "cell_type": "markdown",
   "metadata": {},
   "source": [
    "ANOVA table for F & P statistics"
   ]
  },
  {
   "cell_type": "code",
   "execution_count": 56,
   "metadata": {
    "collapsed": true
   },
   "outputs": [
    {
     "name": "stdout",
     "output_type": "stream",
     "text": [
      "               df      sum_sq   mean_sq          F        PR(>F)\n",
      "Response      1.0    5.230774  5.230774  357.19428  1.968745e-79\n",
      "Residual  59379.0  869.549577  0.014644        NaN           NaN\n"
     ]
    }
   ],
   "source": [
    "#ANOVA table\n",
    "mod = ols('Medical_History_20 ~ Response', data = df).fit()\n",
    "aov_table = sm.stats.anova_lm(mod, typ=1)\n",
    "print(aov_table)"
   ]
  },
  {
   "cell_type": "markdown",
   "metadata": {},
   "source": [
    "F and P statistics and Hypothesis testing for H0(Null Hypothesis)"
   ]
  },
  {
   "cell_type": "code",
   "execution_count": 54,
   "metadata": {
    "collapsed": true
   },
   "outputs": [
    {
     "name": "stdout",
     "output_type": "stream",
     "text": [
      "F value: 130870.37559455197\n",
      "P value: 0.0 \n",
      "\n",
      "Multiple Comparison of Means - Tukey HSD,FWER=0.05\n",
      "============================================\n",
      "group1 group2 meandiff  lower  upper  reject\n",
      "--------------------------------------------\n",
      "  1      2    -0.0032  -0.0097 0.0033 False \n",
      "  1      3     0.0145   0.002  0.0269  True \n",
      "  1      4     0.0252   0.0145 0.036   True \n",
      "  1      5     0.0182   0.0114 0.025   True \n",
      "  1      6     0.0223   0.0165 0.028   True \n",
      "  1      7     0.0211   0.0149 0.0273  True \n",
      "  1      8     0.0246   0.0192 0.0299  True \n",
      "  2      3     0.0176   0.0053  0.03   True \n",
      "  2      4     0.0284   0.0177 0.0391  True \n",
      "  2      5     0.0214   0.0147 0.0281  True \n",
      "  2      6     0.0254   0.0197 0.0311  True \n",
      "  2      7     0.0243   0.0182 0.0304  True \n",
      "  2      8     0.0278   0.0225 0.033   True \n",
      "  3      4     0.0108  -0.0043 0.0258 False \n",
      "  3      5     0.0038  -0.0088 0.0163 False \n",
      "  3      6     0.0078  -0.0042 0.0198 False \n",
      "  3      7     0.0067  -0.0055 0.0189 False \n",
      "  3      8     0.0101  -0.0017 0.0219 False \n",
      "  4      5     -0.007  -0.0179 0.0039 False \n",
      "  4      6     -0.003  -0.0133 0.0073 False \n",
      "  4      7    -0.0041  -0.0146 0.0064 False \n",
      "  4      8    -0.0006  -0.0107 0.0094 False \n",
      "  5      6     0.004    -0.002 0.0101 False \n",
      "  5      7     0.0029  -0.0035 0.0093 False \n",
      "  5      8     0.0063   0.0007 0.012   True \n",
      "  6      7    -0.0011  -0.0065 0.0042 False \n",
      "  6      8     0.0023   -0.002 0.0067 False \n",
      "  7      8     0.0034  -0.0014 0.0083 False \n",
      "--------------------------------------------\n",
      "[1 2 3 4 5 6 7 8]\n"
     ]
    }
   ],
   "source": [
    "import numpy as np\n",
    "from scipy import stats\n",
    "f, p = stats.f_oneway(df['Medical_History_20'], df['Response'])\n",
    "print('F value:', f)\n",
    "print('P value:', p, '\\n')\n",
    "\n",
    "from statsmodels.stats.multicomp import pairwise_tukeyhsd\n",
    "from statsmodels.stats.multicomp import MultiComparison\n",
    "\n",
    "mc = MultiComparison(df['Medical_History_20'], df['Response'])\n",
    "result = mc.tukeyhsd()                        \n",
    "print(result)                       \n",
    "print(mc.groupsunique)                        "
   ]
  },
  {
   "cell_type": "code",
   "execution_count": null,
   "metadata": {},
   "outputs": [],
   "source": []
  }
 ],
 "metadata": {
  "kernelspec": {
   "display_name": "Python 3",
   "language": "python",
   "name": "python3"
  },
  "language_info": {
   "codemirror_mode": {
    "name": "ipython",
    "version": 3
   },
   "file_extension": ".py",
   "mimetype": "text/x-python",
   "name": "python",
   "nbconvert_exporter": "python",
   "pygments_lexer": "ipython3",
   "version": "3.7.1"
  }
 },
 "nbformat": 4,
 "nbformat_minor": 2
}
